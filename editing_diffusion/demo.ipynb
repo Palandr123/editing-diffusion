{
 "cells": [
  {
   "cell_type": "code",
   "execution_count": 1,
   "metadata": {},
   "outputs": [
    {
     "name": "stderr",
     "output_type": "stream",
     "text": [
      "/home/andrey/anaconda3/envs/editing_diffusion/lib/python3.10/site-packages/tqdm/auto.py:21: TqdmWarning: IProgress not found. Please update jupyter and ipywidgets. See https://ipywidgets.readthedocs.io/en/stable/user_install.html\n",
      "  from .autonotebook import tqdm as notebook_tqdm\n"
     ]
    }
   ],
   "source": [
    "\n",
    "import torch\n",
    "\n",
    "from editing_diffusion.llm_objects import spot_objects\n",
    "from editing_diffusion.detectors.owlvitv2 import OWLViTv2Detector\n",
    "\n",
    "device = torch.device(\"cuda:1\")"
   ]
  },
  {
   "cell_type": "code",
   "execution_count": 2,
   "metadata": {},
   "outputs": [
    {
     "name": "stderr",
     "output_type": "stream",
     "text": [
      "Loading checkpoint shards: 100%|██████████| 2/2 [00:01<00:00,  1.04it/s]\n"
     ]
    }
   ],
   "source": [
    "from transformers import AutoModelForCausalLM, AutoTokenizer\n",
    "\n",
    "# Model and tokenizer names\n",
    "model_name = \"mistralai/Mistral-7B-Instruct-v0.1\"\n",
    "\n",
    "# Load the model and tokenizer\n",
    "model = AutoModelForCausalLM.from_pretrained(model_name).eval().to(device)\n",
    "tokenizer = AutoTokenizer.from_pretrained(model_name)"
   ]
  },
  {
   "cell_type": "code",
   "execution_count": 3,
   "metadata": {},
   "outputs": [],
   "source": [
    "model_params = {\n",
    "    \"max_length\": 1200,  # Maximum length of generated text\n",
    "    #\"temperature\": 0.7,  # Controls randomness (higher -> more random)\n",
    "    #\"top_k\": 50, \n",
    "}"
   ]
  },
  {
   "cell_type": "code",
   "execution_count": 4,
   "metadata": {},
   "outputs": [
    {
     "name": "stderr",
     "output_type": "stream",
     "text": [
      "The attention mask and the pad token id were not set. As a consequence, you may observe unexpected behavior. Please pass your input's `attention_mask` to obtain reliable results.\n",
      "Setting `pad_token_id` to `eos_token_id`:2 for open-end generation.\n",
      "The attention mask and the pad token id were not set. As a consequence, you may observe unexpected behavior. Please pass your input's `attention_mask` to obtain reliable results.\n",
      "Setting `pad_token_id` to `eos_token_id`:2 for open-end generation.\n",
      "The attention mask and the pad token id were not set. As a consequence, you may observe unexpected behavior. Please pass your input's `attention_mask` to obtain reliable results.\n",
      "Setting `pad_token_id` to `eos_token_id`:2 for open-end generation.\n",
      "The attention mask and the pad token id were not set. As a consequence, you may observe unexpected behavior. Please pass your input's `attention_mask` to obtain reliable results.\n",
      "Setting `pad_token_id` to `eos_token_id`:2 for open-end generation.\n",
      "The attention mask and the pad token id were not set. As a consequence, you may observe unexpected behavior. Please pass your input's `attention_mask` to obtain reliable results.\n",
      "Setting `pad_token_id` to `eos_token_id`:2 for open-end generation.\n"
     ]
    }
   ],
   "source": [
    "prompts = [\n",
    "    \"a realistic cartoon-style image with a princess and four dwarfs\",\n",
    "    \"a vivid photo with a woman on the right and a clown on the left walking in a dirty alley\",\n",
    "    \"a monkey sitting above a green motorcycle on the left and another raccoon sitting above a blue motorcycle on the right\",\n",
    "    \"a photo of a giant macaron and a croissant splashing in the Seine with the Eiffel Tower in the background\",\n",
    "    \"a DSLR photo of a meatball and a donut falling from the clouds onto a neighborhood\",\n",
    "]\n",
    "results = []\n",
    "for prompt in prompts:\n",
    "    result = spot_objects(tokenizer, model, prompt, device, **model_params)\n",
    "    results.append(result)"
   ]
  },
  {
   "cell_type": "code",
   "execution_count": 5,
   "metadata": {},
   "outputs": [
    {
     "data": {
      "text/plain": [
       "[{'objects': [('princess', [None]), ('dwarf', [None, None, None, None])],\n",
       "  'bg_prompt': 'A realistic cartoon-style image',\n",
       "  'neg_prompt': ''},\n",
       " {'objects': [('woman', [None]), ('clown', [None])],\n",
       "  'bg_prompt': 'A dirty alley',\n",
       "  'neg_prompt': ''},\n",
       " {'objects': [('monkey', ['sitting']),\n",
       "   ('motorcycle', ['green']),\n",
       "   ('raccoon', ['sitting']),\n",
       "   ('motorcycle', ['blue'])],\n",
       "  'bg_prompt': 'A realistic image',\n",
       "  'neg_prompt': ''},\n",
       " {'objects': [('macaron', ['giant']),\n",
       "   ('croissant', ['splashing']),\n",
       "   ('Eiffel Tower', [None])],\n",
       "  'bg_prompt': 'A photo of a giant macaron and a croissant splashing in the Seine with the Eiffel Tower in the background',\n",
       "  'neg_prompt': ''},\n",
       " {'objects': [('meatball', [None]),\n",
       "   ('donut', [None]),\n",
       "   ('clouds', [None]),\n",
       "   ('neighborhood', [None])],\n",
       "  'bg_prompt': 'A DSLR photo',\n",
       "  'neg_prompt': ''}]"
      ]
     },
     "execution_count": 5,
     "metadata": {},
     "output_type": "execute_result"
    }
   ],
   "source": [
    "results"
   ]
  },
  {
   "cell_type": "code",
   "execution_count": 6,
   "metadata": {},
   "outputs": [
    {
     "data": {
      "text/plain": [
       "{'objects': [('princess', [None]), ('dwarf', [None, None, None, None])],\n",
       " 'bg_prompt': 'A realistic cartoon-style image',\n",
       " 'neg_prompt': ''}"
      ]
     },
     "execution_count": 6,
     "metadata": {},
     "output_type": "execute_result"
    }
   ],
   "source": [
    "results[0]"
   ]
  },
  {
   "cell_type": "code",
   "execution_count": 7,
   "metadata": {},
   "outputs": [],
   "source": [
    "detector = OWLViTv2Detector(device)"
   ]
  },
  {
   "cell_type": "code",
   "execution_count": 8,
   "metadata": {},
   "outputs": [],
   "source": [
    "detector.register_objects(results[0][\"objects\"])"
   ]
  },
  {
   "cell_type": "code",
   "execution_count": 9,
   "metadata": {},
   "outputs": [
    {
     "data": {
      "text/plain": [
       "({'princess': 1, 'dwarf': 4}, {})"
      ]
     },
     "execution_count": 9,
     "metadata": {},
     "output_type": "execute_result"
    }
   ],
   "source": [
    "detector.primitive_count, detector.attribute_count"
   ]
  },
  {
   "cell_type": "code",
   "execution_count": 10,
   "metadata": {},
   "outputs": [
    {
     "data": {
      "text/plain": [
       "({'princess': 0, 'dwarf': 0}, {})"
      ]
     },
     "execution_count": 10,
     "metadata": {},
     "output_type": "execute_result"
    }
   ],
   "source": [
    "detector.pred_primitive_count, detector.pred_attribute_count"
   ]
  },
  {
   "cell_type": "code",
   "execution_count": null,
   "metadata": {},
   "outputs": [],
   "source": []
  }
 ],
 "metadata": {
  "kernelspec": {
   "display_name": "editing_diffusion",
   "language": "python",
   "name": "python3"
  },
  "language_info": {
   "codemirror_mode": {
    "name": "ipython",
    "version": 3
   },
   "file_extension": ".py",
   "mimetype": "text/x-python",
   "name": "python",
   "nbconvert_exporter": "python",
   "pygments_lexer": "ipython3",
   "version": "3.10.13"
  }
 },
 "nbformat": 4,
 "nbformat_minor": 2
}
